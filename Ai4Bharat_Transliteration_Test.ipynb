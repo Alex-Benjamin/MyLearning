{
  "nbformat": 4,
  "nbformat_minor": 0,
  "metadata": {
    "colab": {
      "name": "Ai4Bharat Transliteration Test.ipynb",
      "provenance": [],
      "authorship_tag": "ABX9TyNFleqJpHeg28CMCxkY2bRy",
      "include_colab_link": true
    },
    "kernelspec": {
      "name": "python3",
      "display_name": "Python 3"
    },
    "language_info": {
      "name": "python"
    }
  },
  "cells": [
    {
      "cell_type": "markdown",
      "metadata": {
        "id": "view-in-github",
        "colab_type": "text"
      },
      "source": [
        "<a href=\"https://colab.research.google.com/github/Alex-Benjamin/MyLearning/blob/master/Ai4Bharat_Transliteration_Test.ipynb\" target=\"_parent\"><img src=\"https://colab.research.google.com/assets/colab-badge.svg\" alt=\"Open In Colab\"/></a>"
      ]
    },
    {
      "cell_type": "code",
      "execution_count": 1,
      "metadata": {
        "id": "o0CgZDNnZ_DD"
      },
      "outputs": [],
      "source": [
        "import pandas as pd"
      ]
    },
    {
      "cell_type": "code",
      "source": [
        "df_conv_msgs = pd.read_excel('/content/for_transalation.xlsx')\n",
        "df_conv_msgs"
      ],
      "metadata": {
        "id": "qnKDgiC5aYnH",
        "colab": {
          "base_uri": "https://localhost:8080/",
          "height": 423
        },
        "outputId": "879a216d-f573-4cd0-93dd-b558cc0cef03"
      },
      "execution_count": 6,
      "outputs": [
        {
          "output_type": "execute_result",
          "data": {
            "text/plain": [
              "     Unnamed: 0 conversation_id  \\\n",
              "0         75530     cnv_ihd5vs1   \n",
              "1         75531     cnv_ihd5vs1   \n",
              "2         75532     cnv_ihd5vs1   \n",
              "3         75533     cnv_ihd5vs1   \n",
              "4         75534     cnv_ihd5vs1   \n",
              "..          ...             ...   \n",
              "670      403072     cnv_gntevdt   \n",
              "671      403073     cnv_gntevdt   \n",
              "672      403074     cnv_gntevdt   \n",
              "673      403075     cnv_gntevdt   \n",
              "674      403076     cnv_gntevdt   \n",
              "\n",
              "                                              tags        date_time_utc  \\\n",
              "0         Human,Typing,Sabha Margaya,Learn,reenage  2022-01-31 04:40:27   \n",
              "1         Human,Typing,Sabha Margaya,Learn,reenage  2022-01-29 18:34:31   \n",
              "2         Human,Typing,Sabha Margaya,Learn,reenage  2022-01-29 18:34:29   \n",
              "3         Human,Typing,Sabha Margaya,Learn,reenage  2022-01-29 18:34:28   \n",
              "4         Human,Typing,Sabha Margaya,Learn,reenage  2022-01-29 18:34:26   \n",
              "..                                             ...                  ...   \n",
              "670  Human,Typing,FB comment,Sabha Margaya,reenage  2021-07-03 06:16:25   \n",
              "671  Human,Typing,FB comment,Sabha Margaya,reenage  2021-07-03 06:16:24   \n",
              "672  Human,Typing,FB comment,Sabha Margaya,reenage  2021-07-03 05:59:49   \n",
              "673  Human,Typing,FB comment,Sabha Margaya,reenage  2021-07-03 05:44:31   \n",
              "674  Human,Typing,FB comment,Sabha Margaya,reenage  2021-07-03 05:32:39   \n",
              "\n",
              "                                                  text  is_inbound  \n",
              "0                                  from where are you?           0  \n",
              "1                                                  Gcc           1  \n",
              "2                                                    G           1  \n",
              "3                                                  Xcg           1  \n",
              "4                                                 Fccf           1  \n",
              "..                                                 ...         ...  \n",
              "670  මම රොබෝවෙක්, දිගටම කරගෙන යාමට බොත්තම් භවිතා කරන්න           0  \n",
              "671                         Shehani disanayakata ganna           1  \n",
              "672    ඔබ අපගේ කණ්ඩායමේ කෙනෙකු සමඟ කතාබස් කරන්න කැමතිද           0  \n",
              "673      Aye piyya pimbenna akilenna wadey wenney ntda           1  \n",
              "674  හිතවත් අපගේ දැන්වීම ගැන අදහස් දැක්වීම ගැන ස්තූ...           0  \n",
              "\n",
              "[675 rows x 6 columns]"
            ],
            "text/html": [
              "\n",
              "  <div id=\"df-905e1bae-95a6-44eb-8d50-23ed08823fa0\">\n",
              "    <div class=\"colab-df-container\">\n",
              "      <div>\n",
              "<style scoped>\n",
              "    .dataframe tbody tr th:only-of-type {\n",
              "        vertical-align: middle;\n",
              "    }\n",
              "\n",
              "    .dataframe tbody tr th {\n",
              "        vertical-align: top;\n",
              "    }\n",
              "\n",
              "    .dataframe thead th {\n",
              "        text-align: right;\n",
              "    }\n",
              "</style>\n",
              "<table border=\"1\" class=\"dataframe\">\n",
              "  <thead>\n",
              "    <tr style=\"text-align: right;\">\n",
              "      <th></th>\n",
              "      <th>Unnamed: 0</th>\n",
              "      <th>conversation_id</th>\n",
              "      <th>tags</th>\n",
              "      <th>date_time_utc</th>\n",
              "      <th>text</th>\n",
              "      <th>is_inbound</th>\n",
              "    </tr>\n",
              "  </thead>\n",
              "  <tbody>\n",
              "    <tr>\n",
              "      <th>0</th>\n",
              "      <td>75530</td>\n",
              "      <td>cnv_ihd5vs1</td>\n",
              "      <td>Human,Typing,Sabha Margaya,Learn,reenage</td>\n",
              "      <td>2022-01-31 04:40:27</td>\n",
              "      <td>from where are you?</td>\n",
              "      <td>0</td>\n",
              "    </tr>\n",
              "    <tr>\n",
              "      <th>1</th>\n",
              "      <td>75531</td>\n",
              "      <td>cnv_ihd5vs1</td>\n",
              "      <td>Human,Typing,Sabha Margaya,Learn,reenage</td>\n",
              "      <td>2022-01-29 18:34:31</td>\n",
              "      <td>Gcc</td>\n",
              "      <td>1</td>\n",
              "    </tr>\n",
              "    <tr>\n",
              "      <th>2</th>\n",
              "      <td>75532</td>\n",
              "      <td>cnv_ihd5vs1</td>\n",
              "      <td>Human,Typing,Sabha Margaya,Learn,reenage</td>\n",
              "      <td>2022-01-29 18:34:29</td>\n",
              "      <td>G</td>\n",
              "      <td>1</td>\n",
              "    </tr>\n",
              "    <tr>\n",
              "      <th>3</th>\n",
              "      <td>75533</td>\n",
              "      <td>cnv_ihd5vs1</td>\n",
              "      <td>Human,Typing,Sabha Margaya,Learn,reenage</td>\n",
              "      <td>2022-01-29 18:34:28</td>\n",
              "      <td>Xcg</td>\n",
              "      <td>1</td>\n",
              "    </tr>\n",
              "    <tr>\n",
              "      <th>4</th>\n",
              "      <td>75534</td>\n",
              "      <td>cnv_ihd5vs1</td>\n",
              "      <td>Human,Typing,Sabha Margaya,Learn,reenage</td>\n",
              "      <td>2022-01-29 18:34:26</td>\n",
              "      <td>Fccf</td>\n",
              "      <td>1</td>\n",
              "    </tr>\n",
              "    <tr>\n",
              "      <th>...</th>\n",
              "      <td>...</td>\n",
              "      <td>...</td>\n",
              "      <td>...</td>\n",
              "      <td>...</td>\n",
              "      <td>...</td>\n",
              "      <td>...</td>\n",
              "    </tr>\n",
              "    <tr>\n",
              "      <th>670</th>\n",
              "      <td>403072</td>\n",
              "      <td>cnv_gntevdt</td>\n",
              "      <td>Human,Typing,FB comment,Sabha Margaya,reenage</td>\n",
              "      <td>2021-07-03 06:16:25</td>\n",
              "      <td>මම රොබෝවෙක්, දිගටම කරගෙන යාමට බොත්තම් භවිතා කරන්න</td>\n",
              "      <td>0</td>\n",
              "    </tr>\n",
              "    <tr>\n",
              "      <th>671</th>\n",
              "      <td>403073</td>\n",
              "      <td>cnv_gntevdt</td>\n",
              "      <td>Human,Typing,FB comment,Sabha Margaya,reenage</td>\n",
              "      <td>2021-07-03 06:16:24</td>\n",
              "      <td>Shehani disanayakata ganna</td>\n",
              "      <td>1</td>\n",
              "    </tr>\n",
              "    <tr>\n",
              "      <th>672</th>\n",
              "      <td>403074</td>\n",
              "      <td>cnv_gntevdt</td>\n",
              "      <td>Human,Typing,FB comment,Sabha Margaya,reenage</td>\n",
              "      <td>2021-07-03 05:59:49</td>\n",
              "      <td>ඔබ අපගේ කණ්ඩායමේ කෙනෙකු සමඟ කතාබස් කරන්න කැමතිද</td>\n",
              "      <td>0</td>\n",
              "    </tr>\n",
              "    <tr>\n",
              "      <th>673</th>\n",
              "      <td>403075</td>\n",
              "      <td>cnv_gntevdt</td>\n",
              "      <td>Human,Typing,FB comment,Sabha Margaya,reenage</td>\n",
              "      <td>2021-07-03 05:44:31</td>\n",
              "      <td>Aye piyya pimbenna akilenna wadey wenney ntda</td>\n",
              "      <td>1</td>\n",
              "    </tr>\n",
              "    <tr>\n",
              "      <th>674</th>\n",
              "      <td>403076</td>\n",
              "      <td>cnv_gntevdt</td>\n",
              "      <td>Human,Typing,FB comment,Sabha Margaya,reenage</td>\n",
              "      <td>2021-07-03 05:32:39</td>\n",
              "      <td>හිතවත් අපගේ දැන්වීම ගැන අදහස් දැක්වීම ගැන ස්තූ...</td>\n",
              "      <td>0</td>\n",
              "    </tr>\n",
              "  </tbody>\n",
              "</table>\n",
              "<p>675 rows × 6 columns</p>\n",
              "</div>\n",
              "      <button class=\"colab-df-convert\" onclick=\"convertToInteractive('df-905e1bae-95a6-44eb-8d50-23ed08823fa0')\"\n",
              "              title=\"Convert this dataframe to an interactive table.\"\n",
              "              style=\"display:none;\">\n",
              "        \n",
              "  <svg xmlns=\"http://www.w3.org/2000/svg\" height=\"24px\"viewBox=\"0 0 24 24\"\n",
              "       width=\"24px\">\n",
              "    <path d=\"M0 0h24v24H0V0z\" fill=\"none\"/>\n",
              "    <path d=\"M18.56 5.44l.94 2.06.94-2.06 2.06-.94-2.06-.94-.94-2.06-.94 2.06-2.06.94zm-11 1L8.5 8.5l.94-2.06 2.06-.94-2.06-.94L8.5 2.5l-.94 2.06-2.06.94zm10 10l.94 2.06.94-2.06 2.06-.94-2.06-.94-.94-2.06-.94 2.06-2.06.94z\"/><path d=\"M17.41 7.96l-1.37-1.37c-.4-.4-.92-.59-1.43-.59-.52 0-1.04.2-1.43.59L10.3 9.45l-7.72 7.72c-.78.78-.78 2.05 0 2.83L4 21.41c.39.39.9.59 1.41.59.51 0 1.02-.2 1.41-.59l7.78-7.78 2.81-2.81c.8-.78.8-2.07 0-2.86zM5.41 20L4 18.59l7.72-7.72 1.47 1.35L5.41 20z\"/>\n",
              "  </svg>\n",
              "      </button>\n",
              "      \n",
              "  <style>\n",
              "    .colab-df-container {\n",
              "      display:flex;\n",
              "      flex-wrap:wrap;\n",
              "      gap: 12px;\n",
              "    }\n",
              "\n",
              "    .colab-df-convert {\n",
              "      background-color: #E8F0FE;\n",
              "      border: none;\n",
              "      border-radius: 50%;\n",
              "      cursor: pointer;\n",
              "      display: none;\n",
              "      fill: #1967D2;\n",
              "      height: 32px;\n",
              "      padding: 0 0 0 0;\n",
              "      width: 32px;\n",
              "    }\n",
              "\n",
              "    .colab-df-convert:hover {\n",
              "      background-color: #E2EBFA;\n",
              "      box-shadow: 0px 1px 2px rgba(60, 64, 67, 0.3), 0px 1px 3px 1px rgba(60, 64, 67, 0.15);\n",
              "      fill: #174EA6;\n",
              "    }\n",
              "\n",
              "    [theme=dark] .colab-df-convert {\n",
              "      background-color: #3B4455;\n",
              "      fill: #D2E3FC;\n",
              "    }\n",
              "\n",
              "    [theme=dark] .colab-df-convert:hover {\n",
              "      background-color: #434B5C;\n",
              "      box-shadow: 0px 1px 3px 1px rgba(0, 0, 0, 0.15);\n",
              "      filter: drop-shadow(0px 1px 2px rgba(0, 0, 0, 0.3));\n",
              "      fill: #FFFFFF;\n",
              "    }\n",
              "  </style>\n",
              "\n",
              "      <script>\n",
              "        const buttonEl =\n",
              "          document.querySelector('#df-905e1bae-95a6-44eb-8d50-23ed08823fa0 button.colab-df-convert');\n",
              "        buttonEl.style.display =\n",
              "          google.colab.kernel.accessAllowed ? 'block' : 'none';\n",
              "\n",
              "        async function convertToInteractive(key) {\n",
              "          const element = document.querySelector('#df-905e1bae-95a6-44eb-8d50-23ed08823fa0');\n",
              "          const dataTable =\n",
              "            await google.colab.kernel.invokeFunction('convertToInteractive',\n",
              "                                                     [key], {});\n",
              "          if (!dataTable) return;\n",
              "\n",
              "          const docLinkHtml = 'Like what you see? Visit the ' +\n",
              "            '<a target=\"_blank\" href=https://colab.research.google.com/notebooks/data_table.ipynb>data table notebook</a>'\n",
              "            + ' to learn more about interactive tables.';\n",
              "          element.innerHTML = '';\n",
              "          dataTable['output_type'] = 'display_data';\n",
              "          await google.colab.output.renderOutput(dataTable, element);\n",
              "          const docLink = document.createElement('div');\n",
              "          docLink.innerHTML = docLinkHtml;\n",
              "          element.appendChild(docLink);\n",
              "        }\n",
              "      </script>\n",
              "    </div>\n",
              "  </div>\n",
              "  "
            ]
          },
          "metadata": {},
          "execution_count": 6
        }
      ]
    },
    {
      "cell_type": "code",
      "source": [
        "df_conv_msgs.fillna(method='ffill',inplace = True)"
      ],
      "metadata": {
        "id": "NsfbSTZRqoX0"
      },
      "execution_count": 7,
      "outputs": []
    },
    {
      "cell_type": "code",
      "source": [
        "df_conv_msgs"
      ],
      "metadata": {
        "colab": {
          "base_uri": "https://localhost:8080/",
          "height": 423
        },
        "id": "gLfBFPaPqzVy",
        "outputId": "ec5e3358-bf78-4358-e1b0-bd7713d1a574"
      },
      "execution_count": 8,
      "outputs": [
        {
          "output_type": "execute_result",
          "data": {
            "text/plain": [
              "     Unnamed: 0 conversation_id  \\\n",
              "0         75530     cnv_ihd5vs1   \n",
              "1         75531     cnv_ihd5vs1   \n",
              "2         75532     cnv_ihd5vs1   \n",
              "3         75533     cnv_ihd5vs1   \n",
              "4         75534     cnv_ihd5vs1   \n",
              "..          ...             ...   \n",
              "670      403072     cnv_gntevdt   \n",
              "671      403073     cnv_gntevdt   \n",
              "672      403074     cnv_gntevdt   \n",
              "673      403075     cnv_gntevdt   \n",
              "674      403076     cnv_gntevdt   \n",
              "\n",
              "                                              tags        date_time_utc  \\\n",
              "0         Human,Typing,Sabha Margaya,Learn,reenage  2022-01-31 04:40:27   \n",
              "1         Human,Typing,Sabha Margaya,Learn,reenage  2022-01-29 18:34:31   \n",
              "2         Human,Typing,Sabha Margaya,Learn,reenage  2022-01-29 18:34:29   \n",
              "3         Human,Typing,Sabha Margaya,Learn,reenage  2022-01-29 18:34:28   \n",
              "4         Human,Typing,Sabha Margaya,Learn,reenage  2022-01-29 18:34:26   \n",
              "..                                             ...                  ...   \n",
              "670  Human,Typing,FB comment,Sabha Margaya,reenage  2021-07-03 06:16:25   \n",
              "671  Human,Typing,FB comment,Sabha Margaya,reenage  2021-07-03 06:16:24   \n",
              "672  Human,Typing,FB comment,Sabha Margaya,reenage  2021-07-03 05:59:49   \n",
              "673  Human,Typing,FB comment,Sabha Margaya,reenage  2021-07-03 05:44:31   \n",
              "674  Human,Typing,FB comment,Sabha Margaya,reenage  2021-07-03 05:32:39   \n",
              "\n",
              "                                                  text  is_inbound  \n",
              "0                                  from where are you?           0  \n",
              "1                                                  Gcc           1  \n",
              "2                                                    G           1  \n",
              "3                                                  Xcg           1  \n",
              "4                                                 Fccf           1  \n",
              "..                                                 ...         ...  \n",
              "670  මම රොබෝවෙක්, දිගටම කරගෙන යාමට බොත්තම් භවිතා කරන්න           0  \n",
              "671                         Shehani disanayakata ganna           1  \n",
              "672    ඔබ අපගේ කණ්ඩායමේ කෙනෙකු සමඟ කතාබස් කරන්න කැමතිද           0  \n",
              "673      Aye piyya pimbenna akilenna wadey wenney ntda           1  \n",
              "674  හිතවත් අපගේ දැන්වීම ගැන අදහස් දැක්වීම ගැන ස්තූ...           0  \n",
              "\n",
              "[675 rows x 6 columns]"
            ],
            "text/html": [
              "\n",
              "  <div id=\"df-5b0e72ea-c628-4671-a40d-06ec4767fc28\">\n",
              "    <div class=\"colab-df-container\">\n",
              "      <div>\n",
              "<style scoped>\n",
              "    .dataframe tbody tr th:only-of-type {\n",
              "        vertical-align: middle;\n",
              "    }\n",
              "\n",
              "    .dataframe tbody tr th {\n",
              "        vertical-align: top;\n",
              "    }\n",
              "\n",
              "    .dataframe thead th {\n",
              "        text-align: right;\n",
              "    }\n",
              "</style>\n",
              "<table border=\"1\" class=\"dataframe\">\n",
              "  <thead>\n",
              "    <tr style=\"text-align: right;\">\n",
              "      <th></th>\n",
              "      <th>Unnamed: 0</th>\n",
              "      <th>conversation_id</th>\n",
              "      <th>tags</th>\n",
              "      <th>date_time_utc</th>\n",
              "      <th>text</th>\n",
              "      <th>is_inbound</th>\n",
              "    </tr>\n",
              "  </thead>\n",
              "  <tbody>\n",
              "    <tr>\n",
              "      <th>0</th>\n",
              "      <td>75530</td>\n",
              "      <td>cnv_ihd5vs1</td>\n",
              "      <td>Human,Typing,Sabha Margaya,Learn,reenage</td>\n",
              "      <td>2022-01-31 04:40:27</td>\n",
              "      <td>from where are you?</td>\n",
              "      <td>0</td>\n",
              "    </tr>\n",
              "    <tr>\n",
              "      <th>1</th>\n",
              "      <td>75531</td>\n",
              "      <td>cnv_ihd5vs1</td>\n",
              "      <td>Human,Typing,Sabha Margaya,Learn,reenage</td>\n",
              "      <td>2022-01-29 18:34:31</td>\n",
              "      <td>Gcc</td>\n",
              "      <td>1</td>\n",
              "    </tr>\n",
              "    <tr>\n",
              "      <th>2</th>\n",
              "      <td>75532</td>\n",
              "      <td>cnv_ihd5vs1</td>\n",
              "      <td>Human,Typing,Sabha Margaya,Learn,reenage</td>\n",
              "      <td>2022-01-29 18:34:29</td>\n",
              "      <td>G</td>\n",
              "      <td>1</td>\n",
              "    </tr>\n",
              "    <tr>\n",
              "      <th>3</th>\n",
              "      <td>75533</td>\n",
              "      <td>cnv_ihd5vs1</td>\n",
              "      <td>Human,Typing,Sabha Margaya,Learn,reenage</td>\n",
              "      <td>2022-01-29 18:34:28</td>\n",
              "      <td>Xcg</td>\n",
              "      <td>1</td>\n",
              "    </tr>\n",
              "    <tr>\n",
              "      <th>4</th>\n",
              "      <td>75534</td>\n",
              "      <td>cnv_ihd5vs1</td>\n",
              "      <td>Human,Typing,Sabha Margaya,Learn,reenage</td>\n",
              "      <td>2022-01-29 18:34:26</td>\n",
              "      <td>Fccf</td>\n",
              "      <td>1</td>\n",
              "    </tr>\n",
              "    <tr>\n",
              "      <th>...</th>\n",
              "      <td>...</td>\n",
              "      <td>...</td>\n",
              "      <td>...</td>\n",
              "      <td>...</td>\n",
              "      <td>...</td>\n",
              "      <td>...</td>\n",
              "    </tr>\n",
              "    <tr>\n",
              "      <th>670</th>\n",
              "      <td>403072</td>\n",
              "      <td>cnv_gntevdt</td>\n",
              "      <td>Human,Typing,FB comment,Sabha Margaya,reenage</td>\n",
              "      <td>2021-07-03 06:16:25</td>\n",
              "      <td>මම රොබෝවෙක්, දිගටම කරගෙන යාමට බොත්තම් භවිතා කරන්න</td>\n",
              "      <td>0</td>\n",
              "    </tr>\n",
              "    <tr>\n",
              "      <th>671</th>\n",
              "      <td>403073</td>\n",
              "      <td>cnv_gntevdt</td>\n",
              "      <td>Human,Typing,FB comment,Sabha Margaya,reenage</td>\n",
              "      <td>2021-07-03 06:16:24</td>\n",
              "      <td>Shehani disanayakata ganna</td>\n",
              "      <td>1</td>\n",
              "    </tr>\n",
              "    <tr>\n",
              "      <th>672</th>\n",
              "      <td>403074</td>\n",
              "      <td>cnv_gntevdt</td>\n",
              "      <td>Human,Typing,FB comment,Sabha Margaya,reenage</td>\n",
              "      <td>2021-07-03 05:59:49</td>\n",
              "      <td>ඔබ අපගේ කණ්ඩායමේ කෙනෙකු සමඟ කතාබස් කරන්න කැමතිද</td>\n",
              "      <td>0</td>\n",
              "    </tr>\n",
              "    <tr>\n",
              "      <th>673</th>\n",
              "      <td>403075</td>\n",
              "      <td>cnv_gntevdt</td>\n",
              "      <td>Human,Typing,FB comment,Sabha Margaya,reenage</td>\n",
              "      <td>2021-07-03 05:44:31</td>\n",
              "      <td>Aye piyya pimbenna akilenna wadey wenney ntda</td>\n",
              "      <td>1</td>\n",
              "    </tr>\n",
              "    <tr>\n",
              "      <th>674</th>\n",
              "      <td>403076</td>\n",
              "      <td>cnv_gntevdt</td>\n",
              "      <td>Human,Typing,FB comment,Sabha Margaya,reenage</td>\n",
              "      <td>2021-07-03 05:32:39</td>\n",
              "      <td>හිතවත් අපගේ දැන්වීම ගැන අදහස් දැක්වීම ගැන ස්තූ...</td>\n",
              "      <td>0</td>\n",
              "    </tr>\n",
              "  </tbody>\n",
              "</table>\n",
              "<p>675 rows × 6 columns</p>\n",
              "</div>\n",
              "      <button class=\"colab-df-convert\" onclick=\"convertToInteractive('df-5b0e72ea-c628-4671-a40d-06ec4767fc28')\"\n",
              "              title=\"Convert this dataframe to an interactive table.\"\n",
              "              style=\"display:none;\">\n",
              "        \n",
              "  <svg xmlns=\"http://www.w3.org/2000/svg\" height=\"24px\"viewBox=\"0 0 24 24\"\n",
              "       width=\"24px\">\n",
              "    <path d=\"M0 0h24v24H0V0z\" fill=\"none\"/>\n",
              "    <path d=\"M18.56 5.44l.94 2.06.94-2.06 2.06-.94-2.06-.94-.94-2.06-.94 2.06-2.06.94zm-11 1L8.5 8.5l.94-2.06 2.06-.94-2.06-.94L8.5 2.5l-.94 2.06-2.06.94zm10 10l.94 2.06.94-2.06 2.06-.94-2.06-.94-.94-2.06-.94 2.06-2.06.94z\"/><path d=\"M17.41 7.96l-1.37-1.37c-.4-.4-.92-.59-1.43-.59-.52 0-1.04.2-1.43.59L10.3 9.45l-7.72 7.72c-.78.78-.78 2.05 0 2.83L4 21.41c.39.39.9.59 1.41.59.51 0 1.02-.2 1.41-.59l7.78-7.78 2.81-2.81c.8-.78.8-2.07 0-2.86zM5.41 20L4 18.59l7.72-7.72 1.47 1.35L5.41 20z\"/>\n",
              "  </svg>\n",
              "      </button>\n",
              "      \n",
              "  <style>\n",
              "    .colab-df-container {\n",
              "      display:flex;\n",
              "      flex-wrap:wrap;\n",
              "      gap: 12px;\n",
              "    }\n",
              "\n",
              "    .colab-df-convert {\n",
              "      background-color: #E8F0FE;\n",
              "      border: none;\n",
              "      border-radius: 50%;\n",
              "      cursor: pointer;\n",
              "      display: none;\n",
              "      fill: #1967D2;\n",
              "      height: 32px;\n",
              "      padding: 0 0 0 0;\n",
              "      width: 32px;\n",
              "    }\n",
              "\n",
              "    .colab-df-convert:hover {\n",
              "      background-color: #E2EBFA;\n",
              "      box-shadow: 0px 1px 2px rgba(60, 64, 67, 0.3), 0px 1px 3px 1px rgba(60, 64, 67, 0.15);\n",
              "      fill: #174EA6;\n",
              "    }\n",
              "\n",
              "    [theme=dark] .colab-df-convert {\n",
              "      background-color: #3B4455;\n",
              "      fill: #D2E3FC;\n",
              "    }\n",
              "\n",
              "    [theme=dark] .colab-df-convert:hover {\n",
              "      background-color: #434B5C;\n",
              "      box-shadow: 0px 1px 3px 1px rgba(0, 0, 0, 0.15);\n",
              "      filter: drop-shadow(0px 1px 2px rgba(0, 0, 0, 0.3));\n",
              "      fill: #FFFFFF;\n",
              "    }\n",
              "  </style>\n",
              "\n",
              "      <script>\n",
              "        const buttonEl =\n",
              "          document.querySelector('#df-5b0e72ea-c628-4671-a40d-06ec4767fc28 button.colab-df-convert');\n",
              "        buttonEl.style.display =\n",
              "          google.colab.kernel.accessAllowed ? 'block' : 'none';\n",
              "\n",
              "        async function convertToInteractive(key) {\n",
              "          const element = document.querySelector('#df-5b0e72ea-c628-4671-a40d-06ec4767fc28');\n",
              "          const dataTable =\n",
              "            await google.colab.kernel.invokeFunction('convertToInteractive',\n",
              "                                                     [key], {});\n",
              "          if (!dataTable) return;\n",
              "\n",
              "          const docLinkHtml = 'Like what you see? Visit the ' +\n",
              "            '<a target=\"_blank\" href=https://colab.research.google.com/notebooks/data_table.ipynb>data table notebook</a>'\n",
              "            + ' to learn more about interactive tables.';\n",
              "          element.innerHTML = '';\n",
              "          dataTable['output_type'] = 'display_data';\n",
              "          await google.colab.output.renderOutput(dataTable, element);\n",
              "          const docLink = document.createElement('div');\n",
              "          docLink.innerHTML = docLinkHtml;\n",
              "          element.appendChild(docLink);\n",
              "        }\n",
              "      </script>\n",
              "    </div>\n",
              "  </div>\n",
              "  "
            ]
          },
          "metadata": {},
          "execution_count": 8
        }
      ]
    },
    {
      "cell_type": "code",
      "source": [
        "!pip install ai4bharat-transliteration"
      ],
      "metadata": {
        "id": "knZNsRhJaeF3"
      },
      "execution_count": null,
      "outputs": []
    },
    {
      "cell_type": "code",
      "source": [
        "from ai4bharat.transliteration import XlitEngine"
      ],
      "metadata": {
        "id": "Qzl7YwLEahvd"
      },
      "execution_count": 10,
      "outputs": []
    },
    {
      "cell_type": "code",
      "source": [
        "e = XlitEngine(\"si\")"
      ],
      "metadata": {
        "id": "HEe4LneMakxp"
      },
      "execution_count": null,
      "outputs": []
    },
    {
      "cell_type": "code",
      "source": [
        "df_conv_msgs['ai4bharat_transliteration'] = df_conv_msgs.apply(lambda x : e.translit_sentence( x['text'], beam_width=10),axis = 1)"
      ],
      "metadata": {
        "id": "tjIfX884aral"
      },
      "execution_count": 12,
      "outputs": []
    },
    {
      "cell_type": "code",
      "source": [
        "df_conv_msgs['ai4bharat_transliteration_value'] = df_conv_msgs.apply(lambda x : list(x['ai4bharat_transliteration'].values())[0],axis = 1)"
      ],
      "metadata": {
        "id": "Fto2xym6lt7h"
      },
      "execution_count": 13,
      "outputs": []
    },
    {
      "cell_type": "code",
      "source": [
        "#df_conv_msgs.to_excel('transliteration_to_compare.xlsx')\n",
        "df_conv_msgs.columns"
      ],
      "metadata": {
        "id": "Mv4pNojpkklF",
        "colab": {
          "base_uri": "https://localhost:8080/"
        },
        "outputId": "c044116a-991f-4ec3-b6ae-60faef844dea"
      },
      "execution_count": 14,
      "outputs": [
        {
          "output_type": "execute_result",
          "data": {
            "text/plain": [
              "Index(['Unnamed: 0', 'conversation_id', 'tags', 'date_time_utc', 'text',\n",
              "       'is_inbound', 'ai4bharat_transliteration',\n",
              "       'ai4bharat_transliteration_value'],\n",
              "      dtype='object')"
            ]
          },
          "metadata": {},
          "execution_count": 14
        }
      ]
    },
    {
      "cell_type": "code",
      "source": [
        "!pip install --upgrade google-cloud-translate"
      ],
      "metadata": {
        "id": "KzWWPg-HdtYl"
      },
      "execution_count": null,
      "outputs": []
    },
    {
      "cell_type": "code",
      "source": [
        "!pip install --upgrade grpcio==1.44.0"
      ],
      "metadata": {
        "id": "3B3lxq_RlAM5"
      },
      "execution_count": null,
      "outputs": []
    },
    {
      "cell_type": "code",
      "source": [
        "import os\n",
        "os.environ['GOOGLE_APPLICATION_CREDENTIALS'] = \"video-analytics-340108-a356467384e3.json\""
      ],
      "metadata": {
        "id": "1mwa_WcTlIci"
      },
      "execution_count": 17,
      "outputs": []
    },
    {
      "cell_type": "code",
      "source": [
        "from google.cloud import translate\n",
        "\n",
        "\n",
        "# Initialize Translation client\n",
        "def translate_text(text=\"YOUR_TEXT_TO_TRANSLATE\", project_id=\"YOUR_PROJECT_ID\"):\n",
        "    \"\"\"Translating Text.\"\"\"\n",
        "\n",
        "    client = translate.TranslationServiceClient()\n",
        "\n",
        "    location = \"global\"\n",
        "\n",
        "    parent = f\"projects/{project_id}/locations/{location}\"\n",
        "\n",
        "    # Translate text from English to French\n",
        "    # Detail on supported types can be found here:\n",
        "    # https://cloud.google.com/translate/docs/supported-formats\n",
        "    \n",
        "    try:\n",
        "        response = client.translate_text(\n",
        "            request={\n",
        "                \"parent\": parent,\n",
        "                \"contents\": [text],\n",
        "                \"mime_type\": \"text/plain\",  # mime types: text/plain, text/html\n",
        "                \"source_language_code\": \"si\",\n",
        "                \"target_language_code\": \"en\",\n",
        "            }\n",
        "        )\n",
        "    except:\n",
        "        return \"unable to translate\"\n",
        "\n",
        "    # Display the translation for each input text provided\n",
        "    for translation in response.translations:\n",
        "        print(\"Original text: {}\".format(text))\n",
        "        print(\"Translated text: {}\".format(translation.translated_text))\n",
        "        print(\"\\n\")\n",
        "    \n",
        "    return translation.translated_text"
      ],
      "metadata": {
        "id": "ZDnE478plLbo"
      },
      "execution_count": 18,
      "outputs": []
    },
    {
      "cell_type": "code",
      "source": [
        "df_conv_msgs['ai4bharat_translation'] = df_conv_msgs.apply(lambda x : translate_text(x['ai4bharat_transliteration_value'].lower(),'video-analytics-340108'),axis = 1)"
      ],
      "metadata": {
        "id": "rAfQ_VQslNtI"
      },
      "execution_count": null,
      "outputs": []
    },
    {
      "cell_type": "code",
      "source": [
        "df_conv_msgs_curated = df_conv_msgs[['conversation_id', 'tags', 'date_time_utc', 'text','is_inbound','ai4bharat_translation']]"
      ],
      "metadata": {
        "id": "WOIDfNVwMhky"
      },
      "execution_count": 24,
      "outputs": []
    },
    {
      "cell_type": "code",
      "source": [
        "df_conv_msgs_curated = df_conv_msgs[['Conversation Id','Tags', 'Date Time Utc', 'Is Inbound','Text','ai4bharat_translation']]"
      ],
      "metadata": {
        "id": "g1Cl1WN8pTKQ"
      },
      "execution_count": null,
      "outputs": []
    },
    {
      "cell_type": "code",
      "source": [
        "df_conv_msgs_curated.rename(columns = {'Text': 'Original Text', 'ai4bharat_translation' : 'English_Translation'})\n",
        "df_conv_msgs_curated"
      ],
      "metadata": {
        "id": "O3d3xgWAuxv2"
      },
      "execution_count": null,
      "outputs": []
    },
    {
      "cell_type": "code",
      "source": [
        "with pd.ExcelWriter(\"/content/translations_bot_hybrid.xlsx\") as writer:\n",
        "    for conv in df_conv_msgs_curated['conversation_id']:\n",
        "        df_conv_msgs_curated[df_conv_msgs_curated['conversation_id'] == conv].to_excel(writer, sheet_name=conv, index=False)"
      ],
      "metadata": {
        "id": "PmBiS9lSp0QC"
      },
      "execution_count": 25,
      "outputs": []
    },
    {
      "cell_type": "code",
      "source": [
        ""
      ],
      "metadata": {
        "id": "ItVpLa9r25mv"
      },
      "execution_count": null,
      "outputs": []
    }
  ]
}